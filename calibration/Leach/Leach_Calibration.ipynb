{
 "cells": [
  {
   "cell_type": "markdown",
   "metadata": {},
   "source": [
    "# SSPs Calibration: Leach\n",
    "\n",
    "Our working local folders for this calibration are contained in the parent folder of this notebook, in _calibration/Leach_"
   ]
  },
  {
   "cell_type": "markdown",
   "metadata": {},
   "source": [
    "## Socioeconomic Data\n",
    "\n",
    "N/A"
   ]
  },
  {
   "cell_type": "markdown",
   "metadata": {},
   "source": [
    "## Emissions Data"
   ]
  },
  {
   "cell_type": "markdown",
   "metadata": {},
   "source": [
    "The emissions data for the runs is pulled directly from the MimiFAIRv2 repository here: https://github.com/FrankErrickson/MimiFAIRv2.jl which describes it's source as follows: \n",
    "\n",
    "- Code Source: Extracted using default Python model version of FAIR2.0, available at https://github.com/njleach/FAIR/tree/47c6eec031d2edcf09424394dbb86581a1b246ba\"\n",
    "- Paper Reference: Leach et al. 2021. FaIRv2.0.0: a generalized impulse response model for climate uncertainty and future scenario exploration, Geoscientific Model Development. https://doi.org/10.5194/gmd-14-3007-2021\"\n",
    "\n",
    "We rename the five relevant data source files from this repository as _Leach_SSPXX_ to obtain input files for the MimiSSPs components.\n",
    "\n",
    "---\n",
    "**IMPORTANT NOTE** \n",
    "\n",
    "As described in [MimiFAIRv2 data processing scripts](https://github.com/FrankErrickson/MimiFAIRv2.jl/tree/main/data/scripts), we have the option of two slightly different sources of data from Leach et. al. 2021.  \n",
    "\n",
    "(1) The first set are taken directly from the RCMIP data source using `data_retrieval` functions provided in the Python FAIRv2.0 repository.\n",
    "\n",
    "(2) The second set rebase a subset of gases to `0.` in the year 1750. The rebased gases are _[\"so2\",\"nox\",\"co\",\"nmvoc\",\"bc\",\"nh3\",\"oc\",\"nox_avi\",\"methyl_bromide\",\"methyl_chloride\",\"chcl3\",\"ch2cl2\"]_, as indicated in *notebooks/RCMIP/RCMIP-experiments.ipynb* from the FAIRv2.0.0-alpha from the [replication code](https://github.com/njleach/leach-et-al-2021/tree/a4f8c73f3b45c8e82e70c5906f73e6ebad327954).\n",
    "\n",
    "The latter are used by FAIR2.0.0, and are the default for the MimiFAIRv2.0 repository in order to replicate that paper. **The former (non-rebased) are included here, for clarity of use and more direct replication of the RCMIP protocol.**\n",
    "\n",
    "How to further normalize data is up to the user and the use case."
   ]
  }
 ],
 "metadata": {
  "kernelspec": {
   "display_name": "Julia 1.6.0",
   "name": "julia-1.6"
  },
  "language_info": {
   "name": "julia"
  },
  "orig_nbformat": 4
 },
 "nbformat": 4,
 "nbformat_minor": 2
}
