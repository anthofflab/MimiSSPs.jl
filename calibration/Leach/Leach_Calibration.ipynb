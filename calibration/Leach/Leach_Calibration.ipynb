{
 "cells": [
  {
   "cell_type": "markdown",
   "source": [
    "# SSPs Calibration: Leach\n",
    "\n",
    "Our working local folders for this calibration are contained in the parent folder of this notebook, in _calibration/Leach_"
   ],
   "metadata": {}
  },
  {
   "cell_type": "markdown",
   "source": [
    "## Socioeconomic Data\n",
    "\n",
    "N/A"
   ],
   "metadata": {}
  },
  {
   "cell_type": "markdown",
   "source": [
    "## Emissions Data"
   ],
   "metadata": {}
  },
  {
   "cell_type": "markdown",
   "source": [
    "The emissions data for the runs is pulled directly from the MimiFAIRv2 repository here: https://github.com/FrankErrickson/MimiFAIRv2.jl which describes it's source as follows: \n",
    "\n",
    "- Code Source: Extracted using default Python model version of FAIR2.0, available at https://github.com/njleach/FAIR/tree/47c6eec031d2edcf09424394dbb86581a1b246ba\"\n",
    "- Paper Reference: Leach et al. 2021. FaIRv2.0.0: a generalized impulse response model for climate uncertainty and future scenario exploration, Geoscientific Model Development. https://doi.org/10.5194/gmd-14-3007-2021\"\n",
    "\n",
    "We redname the five relevant data source files from this repository as _Leach_RCPXX_ to obtain input files for the MimiSSPs components."
   ],
   "metadata": {}
  }
 ],
 "metadata": {
  "orig_nbformat": 4,
  "language_info": {
   "name": "julia"
  },
  "kernelspec": {
   "name": "julia-1.6",
   "display_name": "Julia 1.6.0"
  }
 },
 "nbformat": 4,
 "nbformat_minor": 2
}