{
 "cells": [
  {
   "cell_type": "markdown",
   "source": [
    "# SSPs Calibration: Kikstra and Rising\n",
    "\n",
    "Our working local folders for this calibration are contained in the parent folder of this notebook, in _calibration/Kikstra-Rising_"
   ],
   "metadata": {}
  },
  {
   "cell_type": "code",
   "execution_count": 3,
   "source": [
    "using CSVFiles, Query, Downloads, DataFrames, XLSX, Interpolations"
   ],
   "outputs": [],
   "metadata": {}
  },
  {
   "cell_type": "markdown",
   "source": [
    "## Socioeconomic Data"
   ],
   "metadata": {}
  },
  {
   "cell_type": "markdown",
   "source": [
    "We start by downloading the country level data from the SSP Database (Shared Socioeconomic Pathways) - Version 2.0 data to obtain _SspDb_country_data_2013-06-12_. Users will need to download these data to their local _calibration/Kikstra-Rising/data_ folder as the requires a (free) registration of a user account and email.  We get 5 SSPs from this source as follows.\n",
    "\n",
    "- SSP1: IMAGE (PBL)\n",
    "- SSP2: MESSAGE-GLOBIOM (IIASA)\n",
    "- SSP3: AIM (NIES)\n",
    "- SSP4: GCAM (PNNL)\n",
    "- SSP5: REMIND-MAGPIE (PIK)\n",
    "\n",
    "Source Citation: Keywan Riahi, Detlef P. van Vuuren, Elmar Kriegler, Jae Edmonds, Brian C. O’Neill, Shinichiro Fujimori, Nico Bauer, Katherine Calvin, Rob Dellink, Oliver Fricko, Wolfgang Lutz, Alexander Popp, Jesus Crespo Cuaresma, Samir KC, Marian Leimbach, Leiwen Jiang, Tom Kram, Shilpa Rao, Johannes Emmerling, Kristie Ebi, Tomoko Hasegawa, Petr Havlík, Florian Humpenöder, Lara Aleluia Da Silva, Steve Smith, Elke Stehfest, Valentina Bosetti, Jiyong Eom, David Gernaat, Toshihiko Masui, Joeri Rogelj, Jessica Strefler, Laurent Drouet, Volker Krey, Gunnar Luderer, Mathijs Harmsen, Kiyoshi Takahashi, Lavinia Baumstark, Jonathan C. Doelman, Mikiko Kainuma, Zbigniew Klimont, Giacomo Marangoni, Hermann Lotze-Campen, Michael Obersteiner, Andrzej Tabeau, Massimo Tavoni. \n",
    "The Shared Socioeconomic Pathways and their energy, land use, and greenhouse gas emissions implications: An overview, Global Environmental Change, Volume 42, Pages 153-168, 2017, ISSN 0959-3780, DOI:110.1016/j.gloenvcha.2016.05.009\n",
    "\n",
    "Download URL: **https://tntcat.iiasa.ac.at/SspDb/dsd?Action=htmlpage&page=10**"
   ],
   "metadata": {}
  },
  {
   "cell_type": "markdown",
   "source": [
    "These data are keyed by ISO 3166-1 alpha3 three-letter country codes, and we obtained a mapping key from the link below provided at the SSP URL to local folder _calibration/data/keys_.\n",
    "\n",
    "Download URL: **https://tntcat.iiasa.ac.at/SspDb/static/download/ISO3166-1_codes_and_country_names.xlsx**"
   ],
   "metadata": {}
  },
  {
   "cell_type": "code",
   "execution_count": null,
   "source": [
    "download_url = 'https://tntcat.iiasa.ac.at/SspDb/static/download/ISO3166-1_codes_and_country_names.xlsx'\n",
    "path = joinpath(@__DIR__, \"data\", \"ISO3166-1_codes_and_country_names.xlsx\")\n",
    "Downloads.download(download_url, local_path)"
   ],
   "outputs": [],
   "metadata": {}
  },
  {
   "cell_type": "markdown",
   "source": [
    "The next step is to process these raw data using methodologies described [here](https://github.com/openmodels/MimiPAGE2020.jl/tree/master/preproc/growthrates) and [here](https://github.com/openmodels/SSP-Extensions) in R using the script _extend_ssp.R_ [TODO] add Scripts from Parthum and Tan to this repository for full replication."
   ],
   "metadata": {}
  },
  {
   "cell_type": "code",
   "execution_count": null,
   "source": [
    "# TODO"
   ],
   "outputs": [],
   "metadata": {}
  },
  {
   "cell_type": "markdown",
   "source": [
    "Next, we postprocess the outputs of this file to produce subsetted CSV files, linearly interpolated to annual values, that we output to our home repository's _data`_ folder."
   ],
   "metadata": {}
  },
  {
   "cell_type": "code",
   "execution_count": 4,
   "source": [
    "data = load(joinpath(@__DIR__, \"data\", \"ssp_3000_projections.csv\")) |> DataFrame\n",
    "for model in unique(data[!, :model]), ssp in unique(data[!, :ssp])\n",
    "\n",
    "    model_data = data |>\n",
    "        @filter(_.model == model && _.ssp == ssp) |>\n",
    "        DataFrame |>\n",
    "        @select(:year, :region, :pop, :gdp) |>\n",
    "        DataFrame\n",
    "\n",
    "    model_data_interp = DataFrame(:year => [], :country => [], :pop => [], :gdp => [])\n",
    "    all_years = collect(minimum(model_data.year):maximum(model_data.year))\n",
    "\n",
    "    for region in unique(model_data.region)\n",
    "\n",
    "        region_data = model_data |> @filter(_.region == region) |> @orderby(:year) |> DataFrame\n",
    "        pop_itp = LinearInterpolation(region_data.year, region_data.pop)\n",
    "        gdp_itp = LinearInterpolation(region_data.year, region_data.gdp)   \n",
    "        \n",
    "        append!(model_data_interp, DataFrame(\n",
    "            :year => all_years,\n",
    "            :country => fill(region, length(all_years)),\n",
    "            :pop => pop_itp[all_years],\n",
    "            :gdp => gdp_itp[all_years]\n",
    "        ))\n",
    "    end\n",
    "    \n",
    "    for (i, type) in enumerate([Int64, String, Float64, Float64])\n",
    "        model_data_interp[:,i] = convert.(type, model_data_interp[:,i])\n",
    "    end\n",
    "\n",
    "    model_data_interp |> save(joinpath(@__DIR__, \"..\", \"..\", \"data\", \"socioeconomic\", \"$(model)_$(ssp).csv\"))\n",
    "end"
   ],
   "outputs": [],
   "metadata": {}
  },
  {
   "cell_type": "markdown",
   "source": [
    "## Emissions Data\n",
    "\n",
    "N/A"
   ],
   "metadata": {}
  }
 ],
 "metadata": {
  "orig_nbformat": 4,
  "language_info": {
   "file_extension": ".jl",
   "name": "julia",
   "mimetype": "application/julia",
   "version": "1.6.0"
  },
  "kernelspec": {
   "display_name": "Julia 1.6.0",
   "language": "julia",
   "name": "julia-1.6"
  }
 },
 "nbformat": 4,
 "nbformat_minor": 2
}