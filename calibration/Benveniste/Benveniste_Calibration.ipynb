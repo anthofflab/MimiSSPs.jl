{
 "cells": [
  {
   "cell_type": "markdown",
   "metadata": {},
   "source": [
    "# SSPs Calibration: Benveniste\n",
    "\n",
    "Our working local folders for this calibration are contained in the parent folder of this notebook, in _calibration/Benveniste_\n",
    "\n",
    "The authors of Benveniste et al., 2020 provided us with three data files in the _data_ subfolder, including _all_ssp_em.csv_, _all_ssp_gdp.csv_, and _all_ssp_pop.csv_, which we will post process below."
   ]
  },
  {
   "cell_type": "code",
   "execution_count": 1,
   "metadata": {},
   "outputs": [],
   "source": [
    "using CSVFiles, Query, DataFrames, Missings"
   ]
  },
  {
   "cell_type": "markdown",
   "metadata": {},
   "source": [
    "## Socioeconomic Data"
   ]
  },
  {
   "cell_type": "code",
   "execution_count": 2,
   "metadata": {},
   "outputs": [],
   "source": [
    "gdp_df = load(joinpath(@__DIR__, \"data\", \"all_ssp_gdp.csv\")) |> DataFrame\n",
    "pop_df = load(joinpath(@__DIR__, \"data\", \"all_ssp_pop.csv\")) |> DataFrame\n",
    "\n",
    "for scen in unique(gdp_df.scen)\n",
    "    pop_data = pop_df |> @filter(_.scen == scen) |> DataFrame\n",
    "    gdp_data = gdp_df |> @filter(_.scen == scen) |> DataFrame\n",
    "    \n",
    "    # check that keys are the same\n",
    "    pop_data.period == gdp_data.period\n",
    "    pop_data.country == gdp_data.country\n",
    "\n",
    "    df = DataFrame(:year => pop_data.period, \n",
    "        :country => pop_data.country, \n",
    "        :pop => pop_data.pop ./ 1e3, # convert thousand to million\n",
    "        :gdp => gdp_data.gdp # billion of USD in $2005\n",
    "    ) |> save(joinpath(@__DIR__, \"..\", \"..\", \"data\", \"socioeconomic\", \"Benveniste_$(scen).csv\"))\n",
    "end"
   ]
  },
  {
   "cell_type": "markdown",
   "metadata": {},
   "source": [
    "## Emissions Data"
   ]
  },
  {
   "cell_type": "markdown",
   "metadata": {},
   "source": [
    "Note that for emissions, Benveniste et al., 2020 provides emissions at the country level but here we aggregate to global to fit the expected format of our components.  In addition, Benveniste et al., 2020 only provides CO2 emissions, not CH4, SF6, or N2O, so this will be handled by the components."
   ]
  },
  {
   "cell_type": "code",
   "execution_count": 4,
   "metadata": {},
   "outputs": [
    {
     "name": "stdout",
     "output_type": "stream",
     "text": [
      "Working on emissions for SSP1-1.9-SPA1 ...\n",
      "Working on emissions for SSP2-4.5-SPA2 ...\n",
      "Working on emissions for SSP3-7.0-SPA0 ...\n",
      "Working on emissions for SSP4-6.0-SPA4 ...\n",
      "Working on emissions for SSP5-8.5 ...\n"
     ]
    }
   ],
   "source": [
    "em_df = load(joinpath(@__DIR__, \"data\", \"all_ssp_em.csv\")) |> DataFrame\n",
    "\n",
    "scenario_dict = Dict(\n",
    "    \"SSP1-1.9-SPA1\" => \"SSP119\",\n",
    "    \"SSP2-4.5-SPA2\" => \"SSP245\",\n",
    "    \"SSP3-7.0-SPA0\" => \"SSP370\",\n",
    "    \"SSP4-6.0-SPA4\" => \"SSP460\",\n",
    "    \"SSP5-8.5\"      => \"SSP585\"\n",
    ")\n",
    "\n",
    "for scenario in unique(em_df.scenario)\n",
    "    println(\"Working on emissions for $scenario ...\")\n",
    "    df = DataFrame(:year => [], :carbon_dioxide => [])\n",
    "    for year in unique(em_df.period)\n",
    "        em_data = em_df |> \n",
    "            @filter(_.scenario == scenario && _.period == year) |> \n",
    "            @select(:em) |> DataFrame\n",
    "\n",
    "        # sum over countries and convert from Mt CO2 to Gt C\n",
    "        total_em = 12/44 .* sum(skipmissing(em_data.em)) ./ 1e3 \n",
    "\n",
    "        append!(df, DataFrame(:year => year, :carbon_dioxide => total_em)) # sum over countries and convert \n",
    "    end\n",
    "    df |> save(joinpath(@__DIR__, \"..\", \"..\", \"data\", \"emissions\", \"Benveniste_$(scenario_dict[scenario]).csv\"))\n",
    "end"
   ]
  }
 ],
 "metadata": {
  "kernelspec": {
   "display_name": "Julia 1.6.0",
   "language": "julia",
   "name": "julia-1.6"
  },
  "language_info": {
   "file_extension": ".jl",
   "mimetype": "application/julia",
   "name": "julia",
   "version": "1.6.0"
  },
  "orig_nbformat": 4
 },
 "nbformat": 4,
 "nbformat_minor": 2
}
