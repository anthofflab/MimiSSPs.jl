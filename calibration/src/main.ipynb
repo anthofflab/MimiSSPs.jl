{
 "cells": [
  {
   "cell_type": "markdown",
   "source": [
    "# Calibration for SSPs"
   ],
   "metadata": {}
  },
  {
   "cell_type": "code",
   "execution_count": null,
   "source": [
    "using CSVFiles, Query, Downloads, DataFrames, XLSX"
   ],
   "outputs": [],
   "metadata": {}
  },
  {
   "cell_type": "markdown",
   "source": [
    "## Data Download"
   ],
   "metadata": {}
  },
  {
   "cell_type": "markdown",
   "source": [
    "We start by downloading the SSP Database (Shared Socioeconomic Pathways) - Version 2.0 data using the URL below to local folders _calibration/data/SSP_IAM_V2_201711_ and _calibration/data/SSP_CMIP6_201711_. Users will need to download these data on their own as it requires a (free) registration of a user account and email. At a high level, we have 5 SSPs from this source as follows.\n",
    "\n",
    "SSP1: IMAGE (PBL)\n",
    "SSP2: MESSAGE-GLOBIOM (IIASA)\n",
    "SSP3: AIM (NIES)\n",
    "SSP4: GCAM (PNNL)\n",
    "SSP5: REMIND-MAGPIE (PIK)\n",
    "\n",
    "Citation: Keywan Riahi, Detlef P. van Vuuren, Elmar Kriegler, Jae Edmonds, Brian C. O’Neill, Shinichiro Fujimori, Nico Bauer, Katherine Calvin, Rob Dellink, Oliver Fricko, Wolfgang Lutz, Alexander Popp, Jesus Crespo Cuaresma, Samir KC, Marian Leimbach, Leiwen Jiang, Tom Kram, Shilpa Rao, Johannes Emmerling, Kristie Ebi, Tomoko Hasegawa, Petr Havlík, Florian Humpenöder, Lara Aleluia Da Silva, Steve Smith, Elke Stehfest, Valentina Bosetti, Jiyong Eom, David Gernaat, Toshihiko Masui, Joeri Rogelj, Jessica Strefler, Laurent Drouet, Volker Krey, Gunnar Luderer, Mathijs Harmsen, Kiyoshi Takahashi, Lavinia Baumstark, Jonathan C. Doelman, Mikiko Kainuma, Zbigniew Klimont, Giacomo Marangoni, Hermann Lotze-Campen, Michael Obersteiner, Andrzej Tabeau, Massimo Tavoni. \n",
    "The Shared Socioeconomic Pathways and their energy, land use, and greenhouse gas emissions implications: An overview, Global Environmental Change, Volume 42, Pages 153-168, 2017, ISSN 0959-3780, DOI:110.1016/j.gloenvcha.2016.05.009\n",
    "\n",
    "**SSP URL: https://tntcat.iiasa.ac.at/SspDb/dsd?Action=htmlpage&page=10**"
   ],
   "metadata": {}
  },
  {
   "cell_type": "code",
   "execution_count": null,
   "source": [],
   "outputs": [],
   "metadata": {}
  },
  {
   "cell_type": "markdown",
   "source": [
    "These data are keyed by ISO 3166-1 alpha3 three-letter country codes, and we obtained a mapping key from the link below provided at the SSP URL to local folder _calibration/data/keys_.\n",
    "\n",
    "**Country Codes Download URL: https://tntcat.iiasa.ac.at/SspDb/static/download/ISO3166-1_codes_and_country_names.xlsx**"
   ],
   "metadata": {}
  },
  {
   "cell_type": "code",
   "execution_count": null,
   "source": [
    "download_url = 'https://tntcat.iiasa.ac.at/SspDb/static/download/ISO3166-1_codes_and_country_names.xlsx'\n",
    "path = joinpath(@__DIR__, \"..\", \"data\", \"keys\", \"ISO3166-1_codes_and_country_names.xlsx\")\n",
    "Downloads.download(download_url, local_path)"
   ],
   "outputs": [],
   "metadata": {}
  },
  {
   "cell_type": "markdown",
   "source": [
    "## Processing Method 1"
   ],
   "metadata": {}
  },
  {
   "cell_type": "markdown",
   "source": [
    "The next step is to process these raw data using methodologies described [here](https://github.com/openmodels/MimiPAGE2020.jl/tree/master/preproc/growthrates) and [here](https://github.com/openmodels/SSP-Extensions).  The work carrying out these steps is held in the src subfolder _calibration/src/Parthum_ along with a README file with further details."
   ],
   "metadata": {}
  },
  {
   "cell_type": "code",
   "execution_count": null,
   "source": [],
   "outputs": [],
   "metadata": {}
  }
 ],
 "metadata": {
  "orig_nbformat": 4,
  "language_info": {
   "name": "julia",
   "version": "1.6.2",
   "mimetype": "application/julia",
   "file_extension": ".jl"
  },
  "kernelspec": {
   "display_name": "Julia 0.6.2",
   "language": "julia",
   "name": "julia-0.6"
  }
 },
 "nbformat": 4,
 "nbformat_minor": 2
}