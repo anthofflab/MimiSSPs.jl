{
 "cells": [
  {
   "cell_type": "markdown",
   "source": [
    "# Calibration for SSPs\r\n",
    "\r\n",
    "We start with a data file that James Rising sent us on XXX in the folder YYY.\r\n",
    "\r\n",
    "First, we filter it:"
   ],
   "metadata": {}
  },
  {
   "cell_type": "markdown",
   "source": [],
   "metadata": {}
  },
  {
   "cell_type": "markdown",
   "source": [
    "Now we run a Python script that we got from ZZZ"
   ],
   "metadata": {}
  },
  {
   "cell_type": "markdown",
   "source": [
    "run(`python otherstuff.py`)"
   ],
   "metadata": {}
  }
 ],
 "metadata": {
  "orig_nbformat": 4,
  "language_info": {
   "name": "julia",
   "version": "1.6.2",
   "mimetype": "application/julia",
   "file_extension": ".jl"
  },
  "kernelspec": {
   "display_name": "Julia 1.6.2",
   "language": "julia",
   "name": "julia-1.6"
  }
 },
 "nbformat": 4,
 "nbformat_minor": 2
}